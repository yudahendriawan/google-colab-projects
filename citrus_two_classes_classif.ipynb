{
 "cells": [
  {
   "cell_type": "code",
   "execution_count": 18,
   "metadata": {},
   "outputs": [
    {
     "name": "stdout",
     "output_type": "stream",
     "text": [
      "<class 'pandas.core.frame.DataFrame'>\n",
      "RangeIndex: 10000 entries, 0 to 9999\n",
      "Data columns (total 6 columns):\n",
      " #   Column    Non-Null Count  Dtype  \n",
      "---  ------    --------------  -----  \n",
      " 0   name      10000 non-null  object \n",
      " 1   diameter  10000 non-null  float64\n",
      " 2   weight    10000 non-null  float64\n",
      " 3   red       10000 non-null  int64  \n",
      " 4   green     10000 non-null  int64  \n",
      " 5   blue      10000 non-null  int64  \n",
      "dtypes: float64(2), int64(3), object(1)\n",
      "memory usage: 468.9+ KB\n"
     ]
    }
   ],
   "source": [
    "import pandas as pd \n",
    "df = pd.read_csv('/Users/yudahendriawan/Library/Mobile Documents/com~apple~CloudDocs/Dicoding/Belajar Pengembangan Machine Learning/datasets/citrus.csv')\n",
    "\n",
    "df.info()"
   ]
  },
  {
   "cell_type": "code",
   "execution_count": 19,
   "metadata": {},
   "outputs": [
    {
     "data": {
      "text/html": [
       "<div>\n",
       "<style scoped>\n",
       "    .dataframe tbody tr th:only-of-type {\n",
       "        vertical-align: middle;\n",
       "    }\n",
       "\n",
       "    .dataframe tbody tr th {\n",
       "        vertical-align: top;\n",
       "    }\n",
       "\n",
       "    .dataframe thead th {\n",
       "        text-align: right;\n",
       "    }\n",
       "</style>\n",
       "<table border=\"1\" class=\"dataframe\">\n",
       "  <thead>\n",
       "    <tr style=\"text-align: right;\">\n",
       "      <th></th>\n",
       "      <th>name</th>\n",
       "      <th>diameter</th>\n",
       "      <th>weight</th>\n",
       "      <th>red</th>\n",
       "      <th>green</th>\n",
       "      <th>blue</th>\n",
       "    </tr>\n",
       "  </thead>\n",
       "  <tbody>\n",
       "    <tr>\n",
       "      <th>0</th>\n",
       "      <td>orange</td>\n",
       "      <td>2.96</td>\n",
       "      <td>86.76</td>\n",
       "      <td>172</td>\n",
       "      <td>85</td>\n",
       "      <td>2</td>\n",
       "    </tr>\n",
       "    <tr>\n",
       "      <th>1</th>\n",
       "      <td>orange</td>\n",
       "      <td>3.91</td>\n",
       "      <td>88.05</td>\n",
       "      <td>166</td>\n",
       "      <td>78</td>\n",
       "      <td>3</td>\n",
       "    </tr>\n",
       "    <tr>\n",
       "      <th>2</th>\n",
       "      <td>orange</td>\n",
       "      <td>4.42</td>\n",
       "      <td>95.17</td>\n",
       "      <td>156</td>\n",
       "      <td>81</td>\n",
       "      <td>2</td>\n",
       "    </tr>\n",
       "    <tr>\n",
       "      <th>3</th>\n",
       "      <td>orange</td>\n",
       "      <td>4.47</td>\n",
       "      <td>95.60</td>\n",
       "      <td>163</td>\n",
       "      <td>81</td>\n",
       "      <td>4</td>\n",
       "    </tr>\n",
       "    <tr>\n",
       "      <th>4</th>\n",
       "      <td>orange</td>\n",
       "      <td>4.48</td>\n",
       "      <td>95.76</td>\n",
       "      <td>161</td>\n",
       "      <td>72</td>\n",
       "      <td>9</td>\n",
       "    </tr>\n",
       "  </tbody>\n",
       "</table>\n",
       "</div>"
      ],
      "text/plain": [
       "     name  diameter  weight  red  green  blue\n",
       "0  orange      2.96   86.76  172     85     2\n",
       "1  orange      3.91   88.05  166     78     3\n",
       "2  orange      4.42   95.17  156     81     2\n",
       "3  orange      4.47   95.60  163     81     4\n",
       "4  orange      4.48   95.76  161     72     9"
      ]
     },
     "execution_count": 19,
     "metadata": {},
     "output_type": "execute_result"
    }
   ],
   "source": [
    "df.head()"
   ]
  },
  {
   "cell_type": "code",
   "execution_count": 20,
   "metadata": {},
   "outputs": [
    {
     "data": {
      "text/html": [
       "<div>\n",
       "<style scoped>\n",
       "    .dataframe tbody tr th:only-of-type {\n",
       "        vertical-align: middle;\n",
       "    }\n",
       "\n",
       "    .dataframe tbody tr th {\n",
       "        vertical-align: top;\n",
       "    }\n",
       "\n",
       "    .dataframe thead th {\n",
       "        text-align: right;\n",
       "    }\n",
       "</style>\n",
       "<table border=\"1\" class=\"dataframe\">\n",
       "  <thead>\n",
       "    <tr style=\"text-align: right;\">\n",
       "      <th></th>\n",
       "      <th>name</th>\n",
       "      <th>diameter</th>\n",
       "      <th>weight</th>\n",
       "      <th>red</th>\n",
       "      <th>green</th>\n",
       "      <th>blue</th>\n",
       "    </tr>\n",
       "  </thead>\n",
       "  <tbody>\n",
       "    <tr>\n",
       "      <th>9995</th>\n",
       "      <td>grapefruit</td>\n",
       "      <td>15.35</td>\n",
       "      <td>253.89</td>\n",
       "      <td>149</td>\n",
       "      <td>77</td>\n",
       "      <td>20</td>\n",
       "    </tr>\n",
       "    <tr>\n",
       "      <th>9996</th>\n",
       "      <td>grapefruit</td>\n",
       "      <td>15.41</td>\n",
       "      <td>254.67</td>\n",
       "      <td>148</td>\n",
       "      <td>68</td>\n",
       "      <td>7</td>\n",
       "    </tr>\n",
       "    <tr>\n",
       "      <th>9997</th>\n",
       "      <td>grapefruit</td>\n",
       "      <td>15.59</td>\n",
       "      <td>256.50</td>\n",
       "      <td>168</td>\n",
       "      <td>82</td>\n",
       "      <td>20</td>\n",
       "    </tr>\n",
       "    <tr>\n",
       "      <th>9998</th>\n",
       "      <td>grapefruit</td>\n",
       "      <td>15.92</td>\n",
       "      <td>260.14</td>\n",
       "      <td>142</td>\n",
       "      <td>72</td>\n",
       "      <td>11</td>\n",
       "    </tr>\n",
       "    <tr>\n",
       "      <th>9999</th>\n",
       "      <td>grapefruit</td>\n",
       "      <td>16.45</td>\n",
       "      <td>261.51</td>\n",
       "      <td>152</td>\n",
       "      <td>74</td>\n",
       "      <td>2</td>\n",
       "    </tr>\n",
       "  </tbody>\n",
       "</table>\n",
       "</div>"
      ],
      "text/plain": [
       "            name  diameter  weight  red  green  blue\n",
       "9995  grapefruit     15.35  253.89  149     77    20\n",
       "9996  grapefruit     15.41  254.67  148     68     7\n",
       "9997  grapefruit     15.59  256.50  168     82    20\n",
       "9998  grapefruit     15.92  260.14  142     72    11\n",
       "9999  grapefruit     16.45  261.51  152     74     2"
      ]
     },
     "execution_count": 20,
     "metadata": {},
     "output_type": "execute_result"
    }
   ],
   "source": [
    "df.tail()"
   ]
  },
  {
   "cell_type": "code",
   "execution_count": 21,
   "metadata": {},
   "outputs": [
    {
     "name": "stderr",
     "output_type": "stream",
     "text": [
      "/var/folders/0y/x555_9f1615brmm8w3wd_8k00000gn/T/ipykernel_71926/2367022965.py:1: FutureWarning: ChainedAssignmentError: behaviour will change in pandas 3.0!\n",
      "You are setting values through chained assignment. Currently this works in certain cases, but when using Copy-on-Write (which will become the default behaviour in pandas 3.0) this will never work to update the original DataFrame or Series, because the intermediate object on which we are setting values will behave as a copy.\n",
      "A typical example is when you are setting values in a column of a DataFrame, like:\n",
      "\n",
      "df[\"col\"][row_indexer] = value\n",
      "\n",
      "Use `df.loc[row_indexer, \"col\"] = values` instead, to perform the assignment in a single step and ensure this keeps updating the original `df`.\n",
      "\n",
      "See the caveats in the documentation: https://pandas.pydata.org/pandas-docs/stable/user_guide/indexing.html#returning-a-view-versus-a-copy\n",
      "\n",
      "  df.name[df.name == 'orange'] = 0\n",
      "/var/folders/0y/x555_9f1615brmm8w3wd_8k00000gn/T/ipykernel_71926/2367022965.py:1: SettingWithCopyWarning: \n",
      "A value is trying to be set on a copy of a slice from a DataFrame\n",
      "\n",
      "See the caveats in the documentation: https://pandas.pydata.org/pandas-docs/stable/user_guide/indexing.html#returning-a-view-versus-a-copy\n",
      "  df.name[df.name == 'orange'] = 0\n",
      "/var/folders/0y/x555_9f1615brmm8w3wd_8k00000gn/T/ipykernel_71926/2367022965.py:2: FutureWarning: ChainedAssignmentError: behaviour will change in pandas 3.0!\n",
      "You are setting values through chained assignment. Currently this works in certain cases, but when using Copy-on-Write (which will become the default behaviour in pandas 3.0) this will never work to update the original DataFrame or Series, because the intermediate object on which we are setting values will behave as a copy.\n",
      "A typical example is when you are setting values in a column of a DataFrame, like:\n",
      "\n",
      "df[\"col\"][row_indexer] = value\n",
      "\n",
      "Use `df.loc[row_indexer, \"col\"] = values` instead, to perform the assignment in a single step and ensure this keeps updating the original `df`.\n",
      "\n",
      "See the caveats in the documentation: https://pandas.pydata.org/pandas-docs/stable/user_guide/indexing.html#returning-a-view-versus-a-copy\n",
      "\n",
      "  df.name[df.name == 'grapefruit'] = 1\n",
      "/var/folders/0y/x555_9f1615brmm8w3wd_8k00000gn/T/ipykernel_71926/2367022965.py:2: SettingWithCopyWarning: \n",
      "A value is trying to be set on a copy of a slice from a DataFrame\n",
      "\n",
      "See the caveats in the documentation: https://pandas.pydata.org/pandas-docs/stable/user_guide/indexing.html#returning-a-view-versus-a-copy\n",
      "  df.name[df.name == 'grapefruit'] = 1\n"
     ]
    }
   ],
   "source": [
    "df.name[df.name == 'orange'] = 0\n",
    "df.name[df.name == 'grapefruit'] = 1"
   ]
  },
  {
   "cell_type": "code",
   "execution_count": 22,
   "metadata": {},
   "outputs": [],
   "source": [
    "dataset = df.values"
   ]
  },
  {
   "cell_type": "code",
   "execution_count": 23,
   "metadata": {},
   "outputs": [
    {
     "data": {
      "text/plain": [
       "array([[0, 2.96, 86.76, 172, 85, 2],\n",
       "       [0, 3.91, 88.05, 166, 78, 3],\n",
       "       [0, 4.42, 95.17, 156, 81, 2],\n",
       "       ...,\n",
       "       [1, 15.59, 256.5, 168, 82, 20],\n",
       "       [1, 15.92, 260.14, 142, 72, 11],\n",
       "       [1, 16.45, 261.51, 152, 74, 2]], dtype=object)"
      ]
     },
     "execution_count": 23,
     "metadata": {},
     "output_type": "execute_result"
    }
   ],
   "source": [
    "dataset"
   ]
  },
  {
   "cell_type": "code",
   "execution_count": 24,
   "metadata": {},
   "outputs": [],
   "source": [
    "X = dataset[:, 1:6]\n",
    "y = dataset[:, 0]\n"
   ]
  },
  {
   "cell_type": "code",
   "execution_count": 25,
   "metadata": {},
   "outputs": [
    {
     "data": {
      "text/plain": [
       "array([[0.        , 0.        , 0.74025974, 0.63529412, 0.        ],\n",
       "       [0.07042254, 0.00738197, 0.66233766, 0.55294118, 0.01851852],\n",
       "       [0.10822832, 0.04812589, 0.53246753, 0.58823529, 0.        ],\n",
       "       ...,\n",
       "       [0.93624907, 0.97133047, 0.68831169, 0.6       , 0.33333333],\n",
       "       [0.96071164, 0.99216023, 0.35064935, 0.48235294, 0.16666667],\n",
       "       [1.        , 1.        , 0.48051948, 0.50588235, 0.        ]])"
      ]
     },
     "execution_count": 25,
     "metadata": {},
     "output_type": "execute_result"
    }
   ],
   "source": [
    "# Normalization\n",
    "\n",
    "from sklearn import preprocessing\n",
    "min_max_scaler = preprocessing.MinMaxScaler()\n",
    "X_scale = min_max_scaler.fit_transform(X)\n",
    "X_scale"
   ]
  },
  {
   "cell_type": "code",
   "execution_count": 26,
   "metadata": {},
   "outputs": [],
   "source": [
    "# train test splitting\n",
    "\n",
    "from sklearn.model_selection import train_test_split\n",
    "X_train, X_test, Y_train, Y_test = train_test_split(X_scale, y, test_size=0.3)"
   ]
  },
  {
   "cell_type": "code",
   "execution_count": 27,
   "metadata": {},
   "outputs": [],
   "source": [
    "# converting the data type of label (from boolean 0 1) to float32\n",
    "\n",
    "import numpy as np\n",
    "\n",
    "Y_train = Y_train.astype(np.float32)\n",
    "Y_test = Y_test.astype(np.float32)"
   ]
  },
  {
   "cell_type": "code",
   "execution_count": 28,
   "metadata": {},
   "outputs": [],
   "source": [
    "# building JST\n",
    "\n",
    "from keras.models import Sequential\n",
    "from keras.layers import Dense\n",
    "\n",
    "model = Sequential([\n",
    "    Dense(32, activation='relu', input_shape=(5,)),\n",
    "    Dense(32, activation='relu'),\n",
    "    Dense(1, activation='sigmoid')\n",
    "])\n",
    "\n",
    "model.compile(optimizer='sgd',\n",
    "              loss='binary_crossentropy',\n",
    "              metrics=['accuracy'])"
   ]
  },
  {
   "cell_type": "code",
   "execution_count": 29,
   "metadata": {},
   "outputs": [
    {
     "name": "stdout",
     "output_type": "stream",
     "text": [
      "Epoch 1/100\n"
     ]
    },
    {
     "name": "stdout",
     "output_type": "stream",
     "text": [
      "219/219 [==============================] - 0s 502us/step - loss: 0.6639 - accuracy: 0.7467\n",
      "Epoch 2/100\n",
      "219/219 [==============================] - 0s 474us/step - loss: 0.6126 - accuracy: 0.9070\n",
      "Epoch 3/100\n",
      "219/219 [==============================] - 0s 478us/step - loss: 0.5369 - accuracy: 0.9164\n",
      "Epoch 4/100\n",
      "219/219 [==============================] - 0s 461us/step - loss: 0.4406 - accuracy: 0.9214\n",
      "Epoch 5/100\n",
      "219/219 [==============================] - 0s 513us/step - loss: 0.3476 - accuracy: 0.9227\n",
      "Epoch 6/100\n",
      "219/219 [==============================] - 0s 456us/step - loss: 0.2817 - accuracy: 0.9256\n",
      "Epoch 7/100\n",
      "219/219 [==============================] - 0s 463us/step - loss: 0.2418 - accuracy: 0.9244\n",
      "Epoch 8/100\n",
      "219/219 [==============================] - 0s 495us/step - loss: 0.2192 - accuracy: 0.9259\n",
      "Epoch 9/100\n",
      "219/219 [==============================] - 0s 457us/step - loss: 0.2053 - accuracy: 0.9260\n",
      "Epoch 10/100\n",
      "219/219 [==============================] - 0s 580us/step - loss: 0.1970 - accuracy: 0.9260\n",
      "Epoch 11/100\n",
      "219/219 [==============================] - 0s 480us/step - loss: 0.1921 - accuracy: 0.9270\n",
      "Epoch 12/100\n",
      "219/219 [==============================] - 0s 479us/step - loss: 0.1883 - accuracy: 0.9269\n",
      "Epoch 13/100\n",
      "219/219 [==============================] - 0s 471us/step - loss: 0.1861 - accuracy: 0.9266\n",
      "Epoch 14/100\n",
      "219/219 [==============================] - 0s 477us/step - loss: 0.1851 - accuracy: 0.9271\n",
      "Epoch 15/100\n",
      "219/219 [==============================] - 0s 500us/step - loss: 0.1837 - accuracy: 0.9267\n",
      "Epoch 16/100\n",
      "219/219 [==============================] - 0s 474us/step - loss: 0.1833 - accuracy: 0.9270\n",
      "Epoch 17/100\n",
      "219/219 [==============================] - 0s 487us/step - loss: 0.1824 - accuracy: 0.9263\n",
      "Epoch 18/100\n",
      "219/219 [==============================] - 0s 468us/step - loss: 0.1815 - accuracy: 0.9271\n",
      "Epoch 19/100\n",
      "219/219 [==============================] - 0s 481us/step - loss: 0.1814 - accuracy: 0.9263\n",
      "Epoch 20/100\n",
      "219/219 [==============================] - 0s 460us/step - loss: 0.1814 - accuracy: 0.9270\n",
      "Epoch 21/100\n",
      "219/219 [==============================] - 0s 456us/step - loss: 0.1811 - accuracy: 0.9280\n",
      "Epoch 22/100\n",
      "219/219 [==============================] - 0s 474us/step - loss: 0.1808 - accuracy: 0.9271\n",
      "Epoch 23/100\n",
      "219/219 [==============================] - 0s 464us/step - loss: 0.1813 - accuracy: 0.9270\n",
      "Epoch 24/100\n",
      "219/219 [==============================] - 0s 521us/step - loss: 0.1808 - accuracy: 0.9276\n",
      "Epoch 25/100\n",
      "219/219 [==============================] - 0s 498us/step - loss: 0.1806 - accuracy: 0.9283\n",
      "Epoch 26/100\n",
      "219/219 [==============================] - 0s 510us/step - loss: 0.1803 - accuracy: 0.9277\n",
      "Epoch 27/100\n",
      "219/219 [==============================] - 0s 600us/step - loss: 0.1806 - accuracy: 0.9270\n",
      "Epoch 28/100\n",
      "219/219 [==============================] - 0s 507us/step - loss: 0.1807 - accuracy: 0.9260\n",
      "Epoch 29/100\n",
      "219/219 [==============================] - 0s 524us/step - loss: 0.1806 - accuracy: 0.9271\n",
      "Epoch 30/100\n",
      "219/219 [==============================] - 0s 484us/step - loss: 0.1802 - accuracy: 0.9256\n",
      "Epoch 31/100\n",
      "219/219 [==============================] - 0s 550us/step - loss: 0.1799 - accuracy: 0.9279\n",
      "Epoch 32/100\n",
      "219/219 [==============================] - 0s 475us/step - loss: 0.1803 - accuracy: 0.9271\n",
      "Epoch 33/100\n",
      "219/219 [==============================] - 0s 472us/step - loss: 0.1804 - accuracy: 0.9267\n",
      "Epoch 34/100\n",
      "219/219 [==============================] - 0s 442us/step - loss: 0.1807 - accuracy: 0.9273\n",
      "Epoch 35/100\n",
      "219/219 [==============================] - 0s 483us/step - loss: 0.1803 - accuracy: 0.9270\n",
      "Epoch 36/100\n",
      "219/219 [==============================] - 0s 487us/step - loss: 0.1802 - accuracy: 0.9267\n",
      "Epoch 37/100\n",
      "219/219 [==============================] - 0s 493us/step - loss: 0.1800 - accuracy: 0.9261\n",
      "Epoch 38/100\n",
      "219/219 [==============================] - 0s 478us/step - loss: 0.1802 - accuracy: 0.9257\n",
      "Epoch 39/100\n",
      "219/219 [==============================] - 0s 479us/step - loss: 0.1798 - accuracy: 0.9271\n",
      "Epoch 40/100\n",
      "219/219 [==============================] - 0s 481us/step - loss: 0.1802 - accuracy: 0.9270\n",
      "Epoch 41/100\n",
      "219/219 [==============================] - 0s 461us/step - loss: 0.1802 - accuracy: 0.9270\n",
      "Epoch 42/100\n",
      "219/219 [==============================] - 0s 461us/step - loss: 0.1802 - accuracy: 0.9263\n",
      "Epoch 43/100\n",
      "219/219 [==============================] - 0s 472us/step - loss: 0.1800 - accuracy: 0.9257\n",
      "Epoch 44/100\n",
      "219/219 [==============================] - 0s 447us/step - loss: 0.1801 - accuracy: 0.9269\n",
      "Epoch 45/100\n",
      "219/219 [==============================] - 0s 446us/step - loss: 0.1797 - accuracy: 0.9286\n",
      "Epoch 46/100\n",
      "219/219 [==============================] - 0s 443us/step - loss: 0.1799 - accuracy: 0.9254\n",
      "Epoch 47/100\n",
      "219/219 [==============================] - 0s 444us/step - loss: 0.1795 - accuracy: 0.9274\n",
      "Epoch 48/100\n",
      "219/219 [==============================] - 0s 443us/step - loss: 0.1800 - accuracy: 0.9256\n",
      "Epoch 49/100\n",
      "219/219 [==============================] - 0s 425us/step - loss: 0.1800 - accuracy: 0.9273\n",
      "Epoch 50/100\n",
      "219/219 [==============================] - 0s 420us/step - loss: 0.1797 - accuracy: 0.9266\n",
      "Epoch 51/100\n",
      "219/219 [==============================] - 0s 440us/step - loss: 0.1799 - accuracy: 0.9274\n",
      "Epoch 52/100\n",
      "219/219 [==============================] - 0s 430us/step - loss: 0.1798 - accuracy: 0.9263\n",
      "Epoch 53/100\n",
      "219/219 [==============================] - 0s 467us/step - loss: 0.1797 - accuracy: 0.9279\n",
      "Epoch 54/100\n",
      "219/219 [==============================] - 0s 484us/step - loss: 0.1799 - accuracy: 0.9263\n",
      "Epoch 55/100\n",
      "219/219 [==============================] - 0s 488us/step - loss: 0.1799 - accuracy: 0.9259\n",
      "Epoch 56/100\n",
      "219/219 [==============================] - 0s 461us/step - loss: 0.1797 - accuracy: 0.9264\n",
      "Epoch 57/100\n",
      "219/219 [==============================] - 0s 444us/step - loss: 0.1798 - accuracy: 0.9261\n",
      "Epoch 58/100\n",
      "219/219 [==============================] - 0s 444us/step - loss: 0.1796 - accuracy: 0.9263\n",
      "Epoch 59/100\n",
      "219/219 [==============================] - 0s 439us/step - loss: 0.1799 - accuracy: 0.9257\n",
      "Epoch 60/100\n",
      "219/219 [==============================] - 0s 416us/step - loss: 0.1797 - accuracy: 0.9273\n",
      "Epoch 61/100\n",
      "219/219 [==============================] - 0s 451us/step - loss: 0.1794 - accuracy: 0.9277\n",
      "Epoch 62/100\n",
      "219/219 [==============================] - 0s 424us/step - loss: 0.1792 - accuracy: 0.9284\n",
      "Epoch 63/100\n",
      "219/219 [==============================] - 0s 424us/step - loss: 0.1799 - accuracy: 0.9274\n",
      "Epoch 64/100\n",
      "219/219 [==============================] - 0s 439us/step - loss: 0.1786 - accuracy: 0.9274\n",
      "Epoch 65/100\n",
      "219/219 [==============================] - 0s 421us/step - loss: 0.1793 - accuracy: 0.9280\n",
      "Epoch 66/100\n",
      "219/219 [==============================] - 0s 438us/step - loss: 0.1796 - accuracy: 0.9289\n",
      "Epoch 67/100\n",
      "219/219 [==============================] - 0s 476us/step - loss: 0.1796 - accuracy: 0.9267\n",
      "Epoch 68/100\n",
      "219/219 [==============================] - 0s 408us/step - loss: 0.1797 - accuracy: 0.9270\n",
      "Epoch 69/100\n",
      "219/219 [==============================] - 0s 425us/step - loss: 0.1791 - accuracy: 0.9270\n",
      "Epoch 70/100\n",
      "219/219 [==============================] - 0s 418us/step - loss: 0.1798 - accuracy: 0.9277\n",
      "Epoch 71/100\n",
      "219/219 [==============================] - 0s 460us/step - loss: 0.1794 - accuracy: 0.9273\n",
      "Epoch 72/100\n",
      "219/219 [==============================] - 0s 445us/step - loss: 0.1790 - accuracy: 0.9287\n",
      "Epoch 73/100\n",
      "219/219 [==============================] - 0s 440us/step - loss: 0.1793 - accuracy: 0.9274\n",
      "Epoch 74/100\n",
      "219/219 [==============================] - 0s 433us/step - loss: 0.1782 - accuracy: 0.9277\n",
      "Epoch 75/100\n",
      "219/219 [==============================] - 0s 413us/step - loss: 0.1794 - accuracy: 0.9291\n",
      "Epoch 76/100\n",
      "219/219 [==============================] - 0s 437us/step - loss: 0.1791 - accuracy: 0.9281\n",
      "Epoch 77/100\n",
      "219/219 [==============================] - 0s 412us/step - loss: 0.1794 - accuracy: 0.9276\n",
      "Epoch 78/100\n",
      "219/219 [==============================] - 0s 406us/step - loss: 0.1795 - accuracy: 0.9271\n",
      "Epoch 79/100\n",
      "219/219 [==============================] - 0s 606us/step - loss: 0.1790 - accuracy: 0.9273\n",
      "Epoch 80/100\n",
      "219/219 [==============================] - 0s 429us/step - loss: 0.1792 - accuracy: 0.9273\n",
      "Epoch 81/100\n",
      "219/219 [==============================] - 0s 464us/step - loss: 0.1787 - accuracy: 0.9267\n",
      "Epoch 82/100\n",
      "219/219 [==============================] - 0s 424us/step - loss: 0.1791 - accuracy: 0.9273\n",
      "Epoch 83/100\n",
      "219/219 [==============================] - 0s 492us/step - loss: 0.1795 - accuracy: 0.9259\n",
      "Epoch 84/100\n",
      "219/219 [==============================] - 0s 489us/step - loss: 0.1794 - accuracy: 0.9276\n",
      "Epoch 85/100\n",
      "219/219 [==============================] - 0s 422us/step - loss: 0.1790 - accuracy: 0.9289\n",
      "Epoch 86/100\n",
      "219/219 [==============================] - 0s 438us/step - loss: 0.1791 - accuracy: 0.9273\n",
      "Epoch 87/100\n",
      "219/219 [==============================] - 0s 410us/step - loss: 0.1791 - accuracy: 0.9271\n",
      "Epoch 88/100\n",
      "219/219 [==============================] - 0s 429us/step - loss: 0.1785 - accuracy: 0.9276\n",
      "Epoch 89/100\n",
      "219/219 [==============================] - 0s 499us/step - loss: 0.1791 - accuracy: 0.9274\n",
      "Epoch 90/100\n",
      "219/219 [==============================] - 0s 436us/step - loss: 0.1787 - accuracy: 0.9276\n",
      "Epoch 91/100\n",
      "219/219 [==============================] - 0s 469us/step - loss: 0.1790 - accuracy: 0.9267\n",
      "Epoch 92/100\n",
      "219/219 [==============================] - 0s 414us/step - loss: 0.1790 - accuracy: 0.9274\n",
      "Epoch 93/100\n",
      "219/219 [==============================] - 0s 431us/step - loss: 0.1787 - accuracy: 0.9281\n",
      "Epoch 94/100\n",
      "219/219 [==============================] - 0s 470us/step - loss: 0.1789 - accuracy: 0.9266\n",
      "Epoch 95/100\n",
      "219/219 [==============================] - 0s 428us/step - loss: 0.1789 - accuracy: 0.9257\n",
      "Epoch 96/100\n",
      "219/219 [==============================] - 0s 432us/step - loss: 0.1786 - accuracy: 0.9269\n",
      "Epoch 97/100\n",
      "219/219 [==============================] - 0s 436us/step - loss: 0.1790 - accuracy: 0.9260\n",
      "Epoch 98/100\n",
      "219/219 [==============================] - 0s 408us/step - loss: 0.1787 - accuracy: 0.9266\n",
      "Epoch 99/100\n",
      "219/219 [==============================] - 0s 434us/step - loss: 0.1786 - accuracy: 0.9259\n",
      "Epoch 100/100\n",
      "219/219 [==============================] - 0s 449us/step - loss: 0.1787 - accuracy: 0.9283\n"
     ]
    },
    {
     "data": {
      "text/plain": [
       "<keras.src.callbacks.History at 0x28f755ac0>"
      ]
     },
     "execution_count": 29,
     "metadata": {},
     "output_type": "execute_result"
    }
   ],
   "source": [
    "model.fit(X_train, Y_train, epochs=100)"
   ]
  },
  {
   "cell_type": "code",
   "execution_count": 30,
   "metadata": {},
   "outputs": [
    {
     "name": "stdout",
     "output_type": "stream",
     "text": [
      "94/94 [==============================] - 0s 919us/step - loss: 0.1751 - accuracy: 0.9270\n"
     ]
    },
    {
     "data": {
      "text/plain": [
       "[0.1750601977109909, 0.9269999861717224]"
      ]
     },
     "execution_count": 30,
     "metadata": {},
     "output_type": "execute_result"
    }
   ],
   "source": [
    "model.evaluate(X_test, Y_test)"
   ]
  },
  {
   "cell_type": "code",
   "execution_count": null,
   "metadata": {},
   "outputs": [],
   "source": []
  }
 ],
 "metadata": {
  "kernelspec": {
   "display_name": "Python 3",
   "language": "python",
   "name": "python3"
  },
  "language_info": {
   "codemirror_mode": {
    "name": "ipython",
    "version": 3
   },
   "file_extension": ".py",
   "mimetype": "text/x-python",
   "name": "python",
   "nbconvert_exporter": "python",
   "pygments_lexer": "ipython3",
   "version": "3.9.6"
  }
 },
 "nbformat": 4,
 "nbformat_minor": 2
}
