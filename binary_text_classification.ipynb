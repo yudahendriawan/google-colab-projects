{
 "cells": [
  {
   "cell_type": "code",
   "execution_count": 2,
   "metadata": {},
   "outputs": [],
   "source": [
    "import pandas as pd \n",
    "df = pd.read_csv(\n",
    "    '/Users/yudahendriawan/Library/Mobile Documents/com~apple~CloudDocs/Dicoding/google-colab-projects/sentiment labelled sentences/yelp_labelled.txt',\n",
    "    names=['sentence','label'],\n",
    "    sep='\\t',\n",
    ")"
   ]
  },
  {
   "cell_type": "code",
   "execution_count": 3,
   "metadata": {},
   "outputs": [
    {
     "data": {
      "text/html": [
       "<div>\n",
       "<style scoped>\n",
       "    .dataframe tbody tr th:only-of-type {\n",
       "        vertical-align: middle;\n",
       "    }\n",
       "\n",
       "    .dataframe tbody tr th {\n",
       "        vertical-align: top;\n",
       "    }\n",
       "\n",
       "    .dataframe thead th {\n",
       "        text-align: right;\n",
       "    }\n",
       "</style>\n",
       "<table border=\"1\" class=\"dataframe\">\n",
       "  <thead>\n",
       "    <tr style=\"text-align: right;\">\n",
       "      <th></th>\n",
       "      <th>sentence</th>\n",
       "      <th>label</th>\n",
       "    </tr>\n",
       "  </thead>\n",
       "  <tbody>\n",
       "    <tr>\n",
       "      <th>0</th>\n",
       "      <td>Wow... Loved this place.</td>\n",
       "      <td>1</td>\n",
       "    </tr>\n",
       "    <tr>\n",
       "      <th>1</th>\n",
       "      <td>Crust is not good.</td>\n",
       "      <td>0</td>\n",
       "    </tr>\n",
       "    <tr>\n",
       "      <th>2</th>\n",
       "      <td>Not tasty and the texture was just nasty.</td>\n",
       "      <td>0</td>\n",
       "    </tr>\n",
       "    <tr>\n",
       "      <th>3</th>\n",
       "      <td>Stopped by during the late May bank holiday of...</td>\n",
       "      <td>1</td>\n",
       "    </tr>\n",
       "    <tr>\n",
       "      <th>4</th>\n",
       "      <td>The selection on the menu was great and so wer...</td>\n",
       "      <td>1</td>\n",
       "    </tr>\n",
       "  </tbody>\n",
       "</table>\n",
       "</div>"
      ],
      "text/plain": [
       "                                            sentence  label\n",
       "0                           Wow... Loved this place.      1\n",
       "1                                 Crust is not good.      0\n",
       "2          Not tasty and the texture was just nasty.      0\n",
       "3  Stopped by during the late May bank holiday of...      1\n",
       "4  The selection on the menu was great and so wer...      1"
      ]
     },
     "execution_count": 3,
     "metadata": {},
     "output_type": "execute_result"
    }
   ],
   "source": [
    "df.head()"
   ]
  },
  {
   "cell_type": "code",
   "execution_count": 4,
   "metadata": {},
   "outputs": [
    {
     "data": {
      "text/html": [
       "<div>\n",
       "<style scoped>\n",
       "    .dataframe tbody tr th:only-of-type {\n",
       "        vertical-align: middle;\n",
       "    }\n",
       "\n",
       "    .dataframe tbody tr th {\n",
       "        vertical-align: top;\n",
       "    }\n",
       "\n",
       "    .dataframe thead th {\n",
       "        text-align: right;\n",
       "    }\n",
       "</style>\n",
       "<table border=\"1\" class=\"dataframe\">\n",
       "  <thead>\n",
       "    <tr style=\"text-align: right;\">\n",
       "      <th></th>\n",
       "      <th>sentence</th>\n",
       "      <th>label</th>\n",
       "    </tr>\n",
       "  </thead>\n",
       "  <tbody>\n",
       "    <tr>\n",
       "      <th>995</th>\n",
       "      <td>I think food should have flavor and texture an...</td>\n",
       "      <td>0</td>\n",
       "    </tr>\n",
       "    <tr>\n",
       "      <th>996</th>\n",
       "      <td>Appetite instantly gone.</td>\n",
       "      <td>0</td>\n",
       "    </tr>\n",
       "    <tr>\n",
       "      <th>997</th>\n",
       "      <td>Overall I was not impressed and would not go b...</td>\n",
       "      <td>0</td>\n",
       "    </tr>\n",
       "    <tr>\n",
       "      <th>998</th>\n",
       "      <td>The whole experience was underwhelming, and I ...</td>\n",
       "      <td>0</td>\n",
       "    </tr>\n",
       "    <tr>\n",
       "      <th>999</th>\n",
       "      <td>Then, as if I hadn't wasted enough of my life ...</td>\n",
       "      <td>0</td>\n",
       "    </tr>\n",
       "  </tbody>\n",
       "</table>\n",
       "</div>"
      ],
      "text/plain": [
       "                                              sentence  label\n",
       "995  I think food should have flavor and texture an...      0\n",
       "996                           Appetite instantly gone.      0\n",
       "997  Overall I was not impressed and would not go b...      0\n",
       "998  The whole experience was underwhelming, and I ...      0\n",
       "999  Then, as if I hadn't wasted enough of my life ...      0"
      ]
     },
     "execution_count": 4,
     "metadata": {},
     "output_type": "execute_result"
    }
   ],
   "source": [
    "df.tail()"
   ]
  },
  {
   "cell_type": "code",
   "execution_count": 6,
   "metadata": {},
   "outputs": [],
   "source": [
    "from sklearn.model_selection import train_test_split\n",
    "\n",
    "kalimat = df['sentence'].values\n",
    "y = df['label'].values\n",
    "\n",
    "kalimat_latih, kalimat_test, y_latih, y_test = train_test_split(kalimat, y, test_size=0.2)"
   ]
  },
  {
   "cell_type": "code",
   "execution_count": 12,
   "metadata": {},
   "outputs": [],
   "source": [
    "from tensorflow.keras.preprocessing.text import Tokenizer\n",
    "from tensorflow.keras.preprocessing.sequence import pad_sequences\n",
    "\n",
    "tokenizer = Tokenizer(num_words=250, oov_token='x')\n",
    "tokenizer.fit_on_texts(kalimat_latih)\n",
    "tokenizer.fit_on_texts(kalimat_test)\n",
    "\n",
    "sekuens_latih = tokenizer.texts_to_sequences(kalimat_latih)\n",
    "sekuens_test = tokenizer.texts_to_sequences(kalimat_test)\n",
    "\n",
    "padded_latih = pad_sequences(sekuens_latih, maxlen=20)\n",
    "padded_test = pad_sequences(sekuens_test, maxlen=20)"
   ]
  },
  {
   "cell_type": "code",
   "execution_count": 13,
   "metadata": {},
   "outputs": [],
   "source": [
    "import tensorflow as tf\n",
    "\n",
    "model = tf.keras.Sequential(\n",
    "    [\n",
    "        tf.keras.layers.Embedding(250,16,input_length=20),\n",
    "        tf.keras.layers.GlobalAveragePooling1D(),\n",
    "        tf.keras.layers.Dense(24, activation='relu'),\n",
    "        tf.keras.layers.Dense(1, activation='sigmoid'),\n",
    "    ]\n",
    ")\n",
    "\n",
    "model.compile(\n",
    "    loss='binary_crossentropy',\n",
    "    optimizer='adam',\n",
    "    metrics=['accuracy']\n",
    ")"
   ]
  },
  {
   "cell_type": "code",
   "execution_count": 14,
   "metadata": {},
   "outputs": [
    {
     "name": "stdout",
     "output_type": "stream",
     "text": [
      "Epoch 1/30\n",
      "25/25 - 0s - loss: 0.6923 - accuracy: 0.5138 - val_loss: 0.6927 - val_accuracy: 0.4950 - 316ms/epoch - 13ms/step\n",
      "Epoch 2/30\n",
      "25/25 - 0s - loss: 0.6896 - accuracy: 0.5738 - val_loss: 0.6912 - val_accuracy: 0.5450 - 29ms/epoch - 1ms/step\n",
      "Epoch 3/30\n",
      "25/25 - 0s - loss: 0.6851 - accuracy: 0.6025 - val_loss: 0.6888 - val_accuracy: 0.5550 - 38ms/epoch - 2ms/step\n",
      "Epoch 4/30\n",
      "25/25 - 0s - loss: 0.6769 - accuracy: 0.6187 - val_loss: 0.6830 - val_accuracy: 0.5450 - 30ms/epoch - 1ms/step\n",
      "Epoch 5/30\n",
      "25/25 - 0s - loss: 0.6648 - accuracy: 0.6700 - val_loss: 0.6743 - val_accuracy: 0.5650 - 30ms/epoch - 1ms/step\n",
      "Epoch 6/30\n",
      "25/25 - 0s - loss: 0.6464 - accuracy: 0.6913 - val_loss: 0.6639 - val_accuracy: 0.5950 - 29ms/epoch - 1ms/step\n",
      "Epoch 7/30\n",
      "25/25 - 0s - loss: 0.6220 - accuracy: 0.7387 - val_loss: 0.6486 - val_accuracy: 0.6500 - 29ms/epoch - 1ms/step\n",
      "Epoch 8/30\n",
      "25/25 - 0s - loss: 0.5923 - accuracy: 0.7475 - val_loss: 0.6345 - val_accuracy: 0.6400 - 31ms/epoch - 1ms/step\n",
      "Epoch 9/30\n",
      "25/25 - 0s - loss: 0.5586 - accuracy: 0.7738 - val_loss: 0.6176 - val_accuracy: 0.6600 - 28ms/epoch - 1ms/step\n",
      "Epoch 10/30\n",
      "25/25 - 0s - loss: 0.5232 - accuracy: 0.7825 - val_loss: 0.5971 - val_accuracy: 0.7300 - 36ms/epoch - 1ms/step\n",
      "Epoch 11/30\n",
      "25/25 - 0s - loss: 0.4884 - accuracy: 0.8112 - val_loss: 0.5866 - val_accuracy: 0.7200 - 36ms/epoch - 1ms/step\n",
      "Epoch 12/30\n",
      "25/25 - 0s - loss: 0.4563 - accuracy: 0.8125 - val_loss: 0.5690 - val_accuracy: 0.7500 - 29ms/epoch - 1ms/step\n",
      "Epoch 13/30\n",
      "25/25 - 0s - loss: 0.4269 - accuracy: 0.8250 - val_loss: 0.5685 - val_accuracy: 0.7350 - 29ms/epoch - 1ms/step\n",
      "Epoch 14/30\n",
      "25/25 - 0s - loss: 0.4023 - accuracy: 0.8350 - val_loss: 0.5506 - val_accuracy: 0.7500 - 29ms/epoch - 1ms/step\n",
      "Epoch 15/30\n",
      "25/25 - 0s - loss: 0.3804 - accuracy: 0.8363 - val_loss: 0.5689 - val_accuracy: 0.7100 - 28ms/epoch - 1ms/step\n",
      "Epoch 16/30\n",
      "25/25 - 0s - loss: 0.3624 - accuracy: 0.8413 - val_loss: 0.5495 - val_accuracy: 0.7250 - 29ms/epoch - 1ms/step\n",
      "Epoch 17/30\n",
      "25/25 - 0s - loss: 0.3459 - accuracy: 0.8550 - val_loss: 0.5414 - val_accuracy: 0.7550 - 27ms/epoch - 1ms/step\n",
      "Epoch 18/30\n",
      "25/25 - 0s - loss: 0.3352 - accuracy: 0.8550 - val_loss: 0.5457 - val_accuracy: 0.7500 - 29ms/epoch - 1ms/step\n",
      "Epoch 19/30\n",
      "25/25 - 0s - loss: 0.3209 - accuracy: 0.8587 - val_loss: 0.5761 - val_accuracy: 0.7150 - 28ms/epoch - 1ms/step\n",
      "Epoch 20/30\n",
      "25/25 - 0s - loss: 0.3101 - accuracy: 0.8712 - val_loss: 0.5580 - val_accuracy: 0.7300 - 27ms/epoch - 1ms/step\n",
      "Epoch 21/30\n",
      "25/25 - 0s - loss: 0.3005 - accuracy: 0.8788 - val_loss: 0.5499 - val_accuracy: 0.7600 - 29ms/epoch - 1ms/step\n",
      "Epoch 22/30\n",
      "25/25 - 0s - loss: 0.2921 - accuracy: 0.8825 - val_loss: 0.5681 - val_accuracy: 0.7400 - 29ms/epoch - 1ms/step\n",
      "Epoch 23/30\n",
      "25/25 - 0s - loss: 0.2860 - accuracy: 0.8825 - val_loss: 0.5569 - val_accuracy: 0.7600 - 28ms/epoch - 1ms/step\n",
      "Epoch 24/30\n",
      "25/25 - 0s - loss: 0.2774 - accuracy: 0.8950 - val_loss: 0.5905 - val_accuracy: 0.7200 - 29ms/epoch - 1ms/step\n",
      "Epoch 25/30\n",
      "25/25 - 0s - loss: 0.2732 - accuracy: 0.8888 - val_loss: 0.5798 - val_accuracy: 0.7500 - 27ms/epoch - 1ms/step\n",
      "Epoch 26/30\n",
      "25/25 - 0s - loss: 0.2677 - accuracy: 0.8950 - val_loss: 0.6014 - val_accuracy: 0.7200 - 28ms/epoch - 1ms/step\n",
      "Epoch 27/30\n",
      "25/25 - 0s - loss: 0.2620 - accuracy: 0.8963 - val_loss: 0.5868 - val_accuracy: 0.7450 - 29ms/epoch - 1ms/step\n",
      "Epoch 28/30\n",
      "25/25 - 0s - loss: 0.2635 - accuracy: 0.8888 - val_loss: 0.6277 - val_accuracy: 0.7200 - 28ms/epoch - 1ms/step\n",
      "Epoch 29/30\n",
      "25/25 - 0s - loss: 0.2638 - accuracy: 0.8913 - val_loss: 0.6397 - val_accuracy: 0.7200 - 28ms/epoch - 1ms/step\n",
      "Epoch 30/30\n",
      "25/25 - 0s - loss: 0.2522 - accuracy: 0.8975 - val_loss: 0.6053 - val_accuracy: 0.7350 - 29ms/epoch - 1ms/step\n"
     ]
    }
   ],
   "source": [
    "num_epochs=30\n",
    "history = model.fit(padded_latih, y_latih, epochs=num_epochs, validation_data=(padded_test, y_test), verbose=2)"
   ]
  },
  {
   "cell_type": "code",
   "execution_count": null,
   "metadata": {},
   "outputs": [],
   "source": []
  }
 ],
 "metadata": {
  "kernelspec": {
   "display_name": "Python 3",
   "language": "python",
   "name": "python3"
  },
  "language_info": {
   "codemirror_mode": {
    "name": "ipython",
    "version": 3
   },
   "file_extension": ".py",
   "mimetype": "text/x-python",
   "name": "python",
   "nbconvert_exporter": "python",
   "pygments_lexer": "ipython3",
   "version": "3.10.10"
  }
 },
 "nbformat": 4,
 "nbformat_minor": 2
}
